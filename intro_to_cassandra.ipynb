{
 "cells": [
  {
   "cell_type": "markdown",
   "id": "baded993",
   "metadata": {},
   "source": [
    "# Universidad Politecnica de Yucatan\n",
    "# Trends in data science\n",
    "# Intro to Cassandra Workshop\n"
   ]
  },
  {
   "cell_type": "code",
   "execution_count": 1,
   "id": "c1cad442",
   "metadata": {},
   "outputs": [],
   "source": [
    "# Importing essential libraries\n",
    "from cassandra.cluster import Cluster\n",
    "from cassandra.query import SimpleStatement\n",
    "from cassandra import ConsistencyLevel"
   ]
  },
  {
   "cell_type": "code",
   "execution_count": 2,
   "id": "3cabd0c2",
   "metadata": {},
   "outputs": [],
   "source": [
    "# Creating connection to cluster \n",
    "\n",
    "cluster = Cluster(['172.18.0.2'],port=9042)\n",
    "session = cluster.connect()"
   ]
  },
  {
   "cell_type": "code",
   "execution_count": 3,
   "id": "dff587d0",
   "metadata": {},
   "outputs": [
    {
     "data": {
      "text/plain": [
       "<cassandra.cluster.ResultSet at 0x7f70ca11e4f0>"
      ]
     },
     "execution_count": 3,
     "metadata": {},
     "output_type": "execute_result"
    }
   ],
   "source": [
    "#Create a keyspace\n",
    "session.execute(\"CREATE KEYSPACE IF NOT EXISTS university WITH REPLICATION \\\n",
    "            = { 'class' : 'SimpleStrategy', 'replication_factor' : '1' };\")"
   ]
  },
  {
   "cell_type": "code",
   "execution_count": 4,
   "id": "49ba223c",
   "metadata": {},
   "outputs": [
    {
     "data": {
      "text/plain": [
       "<cassandra.cluster.ResultSet at 0x7f70f065deb0>"
      ]
     },
     "execution_count": 4,
     "metadata": {},
     "output_type": "execute_result"
    }
   ],
   "source": [
    "# Create table\n",
    "session.execute(\"CREATE TABLE IF NOT EXISTS university.students (\\\n",
    "            studentid text PRIMARY KEY,\\\n",
    "            name text,\\\n",
    "            last_name text,\\\n",
    "            program text,\\\n",
    "            semester int\\\n",
    "            );\")"
   ]
  },
  {
   "cell_type": "markdown",
   "id": "176d11a2",
   "metadata": {},
   "source": [
    "## CRUD OPERATIONS"
   ]
  },
  {
   "cell_type": "code",
   "execution_count": 5,
   "id": "4d3c6530",
   "metadata": {},
   "outputs": [
    {
     "data": {
      "text/plain": [
       "<cassandra.cluster.ResultSet at 0x7f70ca0c5220>"
      ]
     },
     "execution_count": 5,
     "metadata": {},
     "output_type": "execute_result"
    }
   ],
   "source": [
    "# Inserting data\n",
    "query = SimpleStatement(\"INSERT INTO university.students\\\n",
    "            (studentid, name, last_name, program, semester)\\\n",
    "            VALUES\\\n",
    "            (%s, %s, %s, %s, %s)\", consistency_level = ConsistencyLevel.QUORUM)\n",
    "\n",
    "session.execute(query, ('1', 'Jason', 'Pinelo', 'Data Engineering', 9))\n",
    "session.execute(query, ('2', 'Adrian', 'Carmona', 'Data Engineering', 9))\n",
    "session.execute(query, ('3', 'Emmanuel', 'Hurtado', 'Data Engineering', 9))\n",
    "session.execute(query, ('4', 'Pedro', 'Uicab', 'Data Engineering', 9))\n",
    "session.execute(query, ('5', 'Karla', 'Valdez', 'Data Engineering', 9))"
   ]
  },
  {
   "cell_type": "code",
   "execution_count": 8,
   "id": "f397fbfa",
   "metadata": {},
   "outputs": [
    {
     "name": "stdout",
     "output_type": "stream",
     "text": [
      "4 Pedro Uicab Data Engineering 9\n",
      "3 Emmanuel Hurtado Data Engineering 9\n",
      "5 Karla Valdez Data Engineering 9\n",
      "2 Adrian Carmona Data Engineering 9\n",
      "1 Jason Pinelo Data Engineering 9\n"
     ]
    }
   ],
   "source": [
    "# Reading data\n",
    "data = session.execute(\"SELECT * FROM university.students;\")\n",
    "for row in data:\n",
    "    print(row.studentid, row.name, row.last_name, row.program, row.semester)"
   ]
  },
  {
   "cell_type": "code",
   "execution_count": 11,
   "id": "9ea97602",
   "metadata": {},
   "outputs": [
    {
     "name": "stdout",
     "output_type": "stream",
     "text": [
      "4 Pedro Uicab Data Engineering 9\n",
      "5 Karla Valdez Data Engineering 9\n",
      "1 Jason Pinelo Data Engineering 9\n"
     ]
    }
   ],
   "source": [
    "# Deleting data\n",
    "session.execute(\"DELETE FROM university.students WHERE studentid='3';\")\n",
    "data = session.execute(\"SELECT * FROM university.students;\")\n",
    "for row in data:\n",
    "    print(row.studentid, row.name, row.last_name, row.program, row.semester)"
   ]
  },
  {
   "cell_type": "code",
   "execution_count": 13,
   "id": "531d0c62",
   "metadata": {},
   "outputs": [
    {
     "name": "stdout",
     "output_type": "stream",
     "text": [
      "4 Pedro Uicab Data Engineering 9\n",
      "5 Karla Valdez Data Engineering 9\n",
      "1 Jason Pinelo Data Engineering 10\n"
     ]
    }
   ],
   "source": [
    "# Updating data\n",
    "session.execute(\"UPDATE university.students SET semester=10 WHERE studentid='1'\")\n",
    "data = session.execute(\"SELECT * FROM university.students;\")\n",
    "for row in data:\n",
    "    print(row.studentid, row.name, row.last_name, row.program, row.semester)"
   ]
  },
  {
   "cell_type": "markdown",
   "id": "debda540",
   "metadata": {},
   "source": [
    "## CHALLENGE\n",
    "Create a table with the subjects of ninth semester including a primary key, name of the subject and professor. Perform a Reading, some Updating and Deleting as you wish"
   ]
  }
 ],
 "metadata": {
  "kernelspec": {
   "display_name": "Python 3.9.0 64-bit ('3.9.0')",
   "language": "python",
   "name": "python3"
  },
  "language_info": {
   "codemirror_mode": {
    "name": "ipython",
    "version": 3
   },
   "file_extension": ".py",
   "mimetype": "text/x-python",
   "name": "python",
   "nbconvert_exporter": "python",
   "pygments_lexer": "ipython3",
   "version": "3.9.0"
  },
  "vscode": {
   "interpreter": {
    "hash": "b1784da4c01004e8c1caa7cdbf1c00d8b3cf0dbe266eb1e94898fa2c0ce781e3"
   }
  }
 },
 "nbformat": 4,
 "nbformat_minor": 5
}
